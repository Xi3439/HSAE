{
 "cells": [
  {
   "cell_type": "code",
   "execution_count": 26,
   "metadata": {},
   "outputs": [],
   "source": [
    "import pandas as pd\n",
    "import os\n",
    "import matplotlib.pyplot as plt\n",
    "import numpy as np\n",
    "from sklearn.decomposition import PCA\n",
    "import csv\n",
    "import json"
   ]
  },
  {
   "cell_type": "markdown",
   "metadata": {},
   "source": [
    "Convert txt file into csv file"
   ]
  },
  {
   "cell_type": "code",
   "execution_count": 24,
   "metadata": {},
   "outputs": [],
   "source": [
    "file_path = 'data/rnaseq_tsv/gdc_manifest.2024-02-01.txt'\n",
    "output_csv_path = 'data/rnaseq_csv/gdc_manifest.2024-02-01.csv'\n",
    "\n",
    "with open(file_path, 'r') as infile, open(output_csv_path, 'w') as outfile:\n",
    "    lines = infile.readlines()\n",
    "    \n",
    "    for line in lines:\n",
    "        outfile.write(','.join(line.split('\\t')))\n"
   ]
  },
  {
   "cell_type": "markdown",
   "metadata": {},
   "source": [
    "Add case id"
   ]
  },
  {
   "cell_type": "code",
   "execution_count": 20,
   "metadata": {},
   "outputs": [],
   "source": [
    "csv_path = 'data/rnaseq_csv/gdc_manifest.2024-02-01.csv'\n",
    "df = pd.read_csv(csv_path)\n",
    "\n",
    "df['caseid'] = df['filename'].str.extract(r'(TCGA-[A-Z0-9-]+)')\n",
    "\n",
    "output_csv_path = 'data/rnaseq_csv/gdc_manifest_with_caseid.2024-02-01.csv'\n",
    "df.to_csv(output_csv_path, index=False)"
   ]
  },
  {
   "cell_type": "markdown",
   "metadata": {},
   "source": [
    "Convert tsv file into csv file"
   ]
  },
  {
   "cell_type": "code",
   "execution_count": 19,
   "metadata": {},
   "outputs": [
    {
     "name": "stdout",
     "output_type": "stream",
     "text": [
      "Converted data/rnaseq_tsv\\rnaseq_all.tsv to data/rnaseq_csv\\rnaseq_all.csv\n",
      "Converted data/rnaseq_tsv\\rnaseq_s1.tsv to data/rnaseq_csv\\rnaseq_s1.csv\n",
      "Converted data/rnaseq_tsv\\rnaseq_s1_s2.tsv to data/rnaseq_csv\\rnaseq_s1_s2.csv\n",
      "Converted data/rnaseq_tsv\\rnaseq_s2.tsv to data/rnaseq_csv\\rnaseq_s2.csv\n"
     ]
    }
   ],
   "source": [
    "folder_path = 'data/rnaseq_tsv'\n",
    "output_folder_path = 'data/rnaseq_csv'\n",
    "\n",
    "\n",
    "for filename in os.listdir(folder_path):\n",
    "    if filename.endswith('.tsv'):\n",
    "        tsv_file_path = os.path.join(folder_path, filename)\n",
    "        csv_file_path = os.path.join(output_folder_path, filename.replace('.tsv', '.csv'))\n",
    "\n",
    "        with open(tsv_file_path, 'r') as infile, open(csv_file_path, 'w', newline='') as outfile:\n",
    "            tsv_reader = csv.reader(infile, delimiter='\\t')\n",
    "            csv_writer = csv.writer(outfile)\n",
    "\n",
    "            for row in tsv_reader:\n",
    "                csv_writer.writerow(row)\n",
    "        \n",
    "        print(f'Converted {tsv_file_path} to {csv_file_path}')"
   ]
  },
  {
   "cell_type": "markdown",
   "metadata": {},
   "source": [
    "Add caseid to each file"
   ]
  },
  {
   "cell_type": "code",
   "execution_count": 23,
   "metadata": {},
   "outputs": [],
   "source": [
    "# Paths to the CSV files\n",
    "rnaseq_csv_path = 'data/rnaseq_csv/rnaseq_s1_s2.csv'  # Update this to the correct path\n",
    "manifest_csv_path = 'data/rnaseq_csv/gdc_manifest_with_caseid.2024-02-01.csv'  # Update this to the correct path\n",
    "\n",
    "# Load the rnaseq and manifest data into pandas dataframes\n",
    "rnaseq_df = pd.read_csv(rnaseq_csv_path)\n",
    "manifest_df = pd.read_csv(manifest_csv_path)\n",
    "\n",
    "# Extract caseid from the filename in the manifest dataframe\n",
    "manifest_df['caseid'] = manifest_df['filename'].str.extract(r'(TCGA-[A-Z0-9-]+)')\n",
    "\n",
    "# Create a dictionary mapping from id to caseid\n",
    "id_to_caseid = manifest_df.set_index('id')['caseid'].to_dict()\n",
    "\n",
    "# Map the file_id to caseid in rnaseq_df and insert it as the first column\n",
    "rnaseq_df.insert(0, 'caseid', rnaseq_df['file_id'].map(id_to_caseid))\n",
    "\n",
    "# Save the updated DataFrame to a new CSV file\n",
    "updated_rnaseq_csv_path = 'path/to/your/updated_rnaseq_s1_s2.csv'  # Update to your path\n",
    "# Save the updated DataFrame to a new CSV file\n",
    "rnaseq_df.to_csv('data/processed_rnaseq_csv/updated_rnaseq_s1_s2.csv', index=False)"
   ]
  },
  {
   "cell_type": "markdown",
   "metadata": {},
   "source": [
    "Add case id to rnaseq data"
   ]
  },
  {
   "cell_type": "code",
   "execution_count": 22,
   "metadata": {},
   "outputs": [],
   "source": [
    "with open('data/metadata.cart.2024-02-01.json', 'r') as file:\n",
    "    json_data = json.load(file)\n",
    "\n",
    "file_id_to_entity_submitter_id = {}\n",
    "for item in json_data:\n",
    "    if \"file_id\" in item and \"associated_entities\" in item and len(item[\"associated_entities\"]) > 0:\n",
    "        file_id = item[\"file_id\"]\n",
    "        entity_submitter_id = item[\"associated_entities\"][0].get(\"entity_submitter_id\", \"\")\n",
    "        if entity_submitter_id:\n",
    "            parts = entity_submitter_id.split(\"-\")\n",
    "            if len(parts) >= 3:\n",
    "                extracted_id = \"-\".join(parts[:3])\n",
    "                file_id_to_entity_submitter_id[file_id] = extracted_id\n",
    "\n",
    "df = pd.read_csv('data/rnaseq_csv/rnaseq_all.csv')\n",
    "\n",
    "df['case_id'] = df['file_id'].map(file_id_to_entity_submitter_id).fillna('Not Found')\n",
    "\n",
    "cols = ['case_id'] + [col for col in df if col != 'case_id']\n",
    "df = df[cols]\n",
    "\n",
    "df.to_csv('data/processed_rnaseq_csv/updated_rnaseq_all.csv', index=False)"
   ]
  },
  {
   "cell_type": "markdown",
   "metadata": {},
   "source": [
    "Find if there is duplicate case in rnaseq_s1/rnaseq_s1_s2/rnaseq_all"
   ]
  },
  {
   "cell_type": "code",
   "execution_count": 32,
   "metadata": {},
   "outputs": [
    {
     "name": "stdout",
     "output_type": "stream",
     "text": [
      "非重复的case_id数量: 475\n",
      "['TCGA-CV-7183', 'TCGA-CV-6933', 'TCGA-CV-7178', 'TCGA-CV-6959', 'TCGA-CV-7425', 'TCGA-CV-7252', 'TCGA-CV-6956', 'TCGA-CV-7438', 'TCGA-CV-6943', 'TCGA-CV-7255', 'TCGA-CV-7425', 'TCGA-CV-6961', 'TCGA-CV-7242', 'TCGA-CV-7101', 'TCGA-CV-7235', 'TCGA-KU-A6H7', 'TCGA-CV-6938', 'TCGA-CV-7255', 'TCGA-CV-6955', 'TCGA-CV-7101', 'TCGA-HD-A6I0', 'TCGA-CV-7261', 'TCGA-HD-8635', 'TCGA-CV-6934', 'TCGA-CV-6936', 'TCGA-HD-8635', 'TCGA-CV-7406', 'TCGA-H7-A6C4', 'TCGA-CV-7434', 'TCGA-CV-7178', 'TCGA-CV-7252', 'TCGA-CV-7434', 'TCGA-HD-A6I0', 'TCGA-CV-7235', 'TCGA-CV-7183', 'TCGA-CV-6933', 'TCGA-CV-6938', 'TCGA-CV-7416', 'TCGA-HD-A6HZ', 'TCGA-CV-7245', 'TCGA-CV-6961', 'TCGA-CV-7406', 'TCGA-CV-6934', 'TCGA-KU-A6H7', 'TCGA-HD-A6HZ', 'TCGA-CV-6962', 'TCGA-CV-7437', 'TCGA-CV-7440', 'TCGA-CV-7238', 'TCGA-CV-7424', 'TCGA-CV-7438', 'TCGA-CV-6939', 'TCGA-CV-6943', 'TCGA-CV-7250', 'TCGA-CV-6959', 'TCGA-CV-7103', 'TCGA-CV-7423', 'TCGA-CV-7250', 'TCGA-WA-A7GZ', 'TCGA-CV-7177', 'TCGA-CV-7097', 'TCGA-CV-6955', 'TCGA-CV-7432', 'TCGA-CV-7091', 'TCGA-CV-6960', 'TCGA-CV-6935', 'TCGA-CV-7245', 'TCGA-CV-6936', 'TCGA-WA-A7GZ', 'TCGA-CV-7437', 'TCGA-CV-7242', 'TCGA-CV-7423', 'TCGA-UF-A71A', 'TCGA-CV-7432', 'TCGA-CV-6956', 'TCGA-CV-6962', 'TCGA-CV-7261', 'TCGA-CV-7238', 'TCGA-CV-7177', 'TCGA-UF-A71A', 'TCGA-CV-6960', 'TCGA-CV-7424', 'TCGA-H7-A6C4', 'TCGA-CV-7091', 'TCGA-CV-7097', 'TCGA-CV-7440', 'TCGA-CV-7103', 'TCGA-CV-6935', 'TCGA-CV-6939', 'TCGA-CV-7416']\n"
     ]
    }
   ],
   "source": [
    "\n",
    "df = pd.read_csv('data/processed_rnaseq_csv/updated_rnaseq_s1.csv') \n",
    "\n",
    "duplicated_case_ids = df[df.duplicated('case_id', keep=False)]\n",
    "\n",
    "unique_case_ids = df.drop_duplicates('case_id', keep=False)\n",
    "\n",
    "unique_case_ids_array = unique_case_ids['case_id'].tolist()\n",
    "duplicated_case_ids_array = duplicated_case_ids['case_id'].tolist()\n",
    "\n",
    "print(f\"non-Duplicate number: {len(unique_case_ids_array)}\")\n",
    "print(f\"Duplicate number: {len(duplicated_case_ids_array)}\")\n",
    "print(duplicated_case_ids_array)"
   ]
  },
  {
   "cell_type": "code",
   "execution_count": 40,
   "metadata": {},
   "outputs": [
    {
     "ename": "FileNotFoundError",
     "evalue": "[Errno 2] No such file or directory: 'your_data_file.json'",
     "output_type": "error",
     "traceback": [
      "\u001b[1;31m---------------------------------------------------------------------------\u001b[0m",
      "\u001b[1;31mFileNotFoundError\u001b[0m                         Traceback (most recent call last)",
      "Cell \u001b[1;32mIn[40], line 1\u001b[0m\n\u001b[1;32m----> 1\u001b[0m \u001b[38;5;28;01mwith\u001b[39;00m \u001b[38;5;28mopen\u001b[39m(\u001b[38;5;124m'\u001b[39m\u001b[38;5;124myour_data_file.json\u001b[39m\u001b[38;5;124m'\u001b[39m, \u001b[38;5;124m'\u001b[39m\u001b[38;5;124mr\u001b[39m\u001b[38;5;124m'\u001b[39m) \u001b[38;5;28;01mas\u001b[39;00m file:\n\u001b[0;32m      2\u001b[0m     data_list \u001b[38;5;241m=\u001b[39m json\u001b[38;5;241m.\u001b[39mload(file)\n\u001b[0;32m      4\u001b[0m \u001b[38;5;66;03m# 准备写入CSV\u001b[39;00m\n",
      "File \u001b[1;32me:\\Programming\\anaconda\\Lib\\site-packages\\IPython\\core\\interactiveshell.py:310\u001b[0m, in \u001b[0;36m_modified_open\u001b[1;34m(file, *args, **kwargs)\u001b[0m\n\u001b[0;32m    303\u001b[0m \u001b[38;5;28;01mif\u001b[39;00m file \u001b[38;5;129;01min\u001b[39;00m {\u001b[38;5;241m0\u001b[39m, \u001b[38;5;241m1\u001b[39m, \u001b[38;5;241m2\u001b[39m}:\n\u001b[0;32m    304\u001b[0m     \u001b[38;5;28;01mraise\u001b[39;00m \u001b[38;5;167;01mValueError\u001b[39;00m(\n\u001b[0;32m    305\u001b[0m         \u001b[38;5;124mf\u001b[39m\u001b[38;5;124m\"\u001b[39m\u001b[38;5;124mIPython won\u001b[39m\u001b[38;5;124m'\u001b[39m\u001b[38;5;124mt let you open fd=\u001b[39m\u001b[38;5;132;01m{\u001b[39;00mfile\u001b[38;5;132;01m}\u001b[39;00m\u001b[38;5;124m by default \u001b[39m\u001b[38;5;124m\"\u001b[39m\n\u001b[0;32m    306\u001b[0m         \u001b[38;5;124m\"\u001b[39m\u001b[38;5;124mas it is likely to crash IPython. If you know what you are doing, \u001b[39m\u001b[38;5;124m\"\u001b[39m\n\u001b[0;32m    307\u001b[0m         \u001b[38;5;124m\"\u001b[39m\u001b[38;5;124myou can use builtins\u001b[39m\u001b[38;5;124m'\u001b[39m\u001b[38;5;124m open.\u001b[39m\u001b[38;5;124m\"\u001b[39m\n\u001b[0;32m    308\u001b[0m     )\n\u001b[1;32m--> 310\u001b[0m \u001b[38;5;28;01mreturn\u001b[39;00m io_open(file, \u001b[38;5;241m*\u001b[39margs, \u001b[38;5;241m*\u001b[39m\u001b[38;5;241m*\u001b[39mkwargs)\n",
      "\u001b[1;31mFileNotFoundError\u001b[0m: [Errno 2] No such file or directory: 'your_data_file.json'"
     ]
    }
   ],
   "source": [
    "with open('data/biospecimen.cart.2024-02-01.json', 'r') as file:\n",
    "    data_list = json.load(file)\n",
    "\n",
    "# 准备写入CSV\n",
    "with open('data/processed_rnaseq_csv/rnaseq_biospecimen_results.csv', 'w', newline='') as csvfile:\n",
    "    fieldnames = ['case_id', 'TCGA_code', 'State', 'aliquot_id']\n",
    "    writer = csv.DictWriter(csvfile, fieldnames=fieldnames)\n",
    "    writer.writeheader()\n",
    "\n",
    "    for data in data_list:\n",
    "        case_id = data['case_id']\n",
    "\n",
    "        for sample in data['samples']:\n",
    "            state = sample['sample_type']  # 'Primary Tumor' 或 'Metastatic'\n",
    "            last_aliquot_id = None\n",
    "            TCGA_code = None\n",
    "\n",
    "            for portion in sample['portions']:\n",
    "                for analyte in portion.get('analytes', []):\n",
    "                    if analyte['analyte_type_id'] == \"R\":  # 确保是RNA测序数据\n",
    "                        for aliquot in analyte['aliquots']:\n",
    "                            last_aliquot_id = aliquot['aliquot_id']  # 更新为最后一个aliquot_id\n",
    "                            submitter_id = aliquot['submitter_id']\n",
    "                            TCGA_code = '-'.join(submitter_id.split('-')[:3])\n",
    "            \n",
    "            if last_aliquot_id:  # 如果找到了RNA测序的aliquot_id，写入CSV\n",
    "                writer.writerow({'case_id': case_id, 'TCGA_code': TCGA_code, 'State': state, 'aliquot_id': last_aliquot_id})"
   ]
  }
 ],
 "metadata": {
  "kernelspec": {
   "display_name": "Python 3",
   "language": "python",
   "name": "python3"
  },
  "language_info": {
   "codemirror_mode": {
    "name": "ipython",
    "version": 3
   },
   "file_extension": ".py",
   "mimetype": "text/x-python",
   "name": "python",
   "nbconvert_exporter": "python",
   "pygments_lexer": "ipython3",
   "version": "3.11.7"
  }
 },
 "nbformat": 4,
 "nbformat_minor": 2
}
